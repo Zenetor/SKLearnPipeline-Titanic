{
 "cells": [
  {
   "cell_type": "code",
   "execution_count": 15,
   "metadata": {},
   "outputs": [],
   "source": [
    "# This is a proof of concept of sklearn pipelines, its a very useful way to make the code clear and \n",
    "# understandable, it was was inspired by the tutorial: \n",
    "# https://medium.com/data-hackers/como-usar-pipelines-no-scikit-learn-1398a4cc6ae9"
   ]
  },
  {
   "cell_type": "code",
   "execution_count": null,
   "metadata": {},
   "outputs": [],
   "source": [
    "#Importing Libraries\n",
    "import pandas as pd\n",
    "from sklearn.tree import DecisionTreeClassifier\n",
    "from sklearn.model_selection import train_test_split\n",
    "from sklearn.pipeline import Pipeline\n",
    "from sklearn.impute import SimpleImputer\n",
    "from category_encoders import OneHotEncoder\n",
    "from sklearn.model_selection import KFold\n",
    "from sklearn.model_selection import cross_validate\n",
    "from sklearn.model_selection import GridSearchCV"
   ]
  },
  {
   "cell_type": "code",
   "execution_count": 4,
   "metadata": {},
   "outputs": [],
   "source": [
    "# Reading dataset\n",
    "df = pd.read_csv(\"train.csv\")\n",
    "\n",
    "# Droping not relevant columns\n",
    "df.drop([\"Name\", \"Ticket\", \"Cabin\"], axis=1, inplace=True)\n",
    "\n",
    "# Spliting into train and test\n",
    "X_train, X_test, y_train, y_test = train_test_split(df.drop(['Survived'], axis=1), \n",
    "                                                    df['Survived'], \n",
    "                                                    test_size=0.2, \n",
    "                                                    random_state=42)"
   ]
  },
  {
   "cell_type": "code",
   "execution_count": 6,
   "metadata": {},
   "outputs": [],
   "source": [
    "#Making the pipeline, it will be made of 3 steps: one-hot enconding, replacing missing data for the mean and\n",
    "#the tree model\n",
    "\n",
    "model = Pipeline(steps=[\n",
    "    ('one-hot encoder', OneHotEncoder()),\n",
    "    ('imputer', SimpleImputer(strategy='mean')),\n",
    "    ('tree', DecisionTreeClassifier(max_depth=3, random_state=0))\n",
    "])"
   ]
  },
  {
   "cell_type": "code",
   "execution_count": 8,
   "metadata": {},
   "outputs": [],
   "source": [
    "# running the pipeline\n",
    "model.fit(X_train, y_train)"
   ]
  },
  {
   "cell_type": "code",
   "execution_count": 17,
   "metadata": {},
   "outputs": [
    {
     "name": "stdout",
     "output_type": "stream",
     "text": [
      "Train score: 0.8342696629213483\n",
      "Test score: 0.7988826815642458\n"
     ]
    }
   ],
   "source": [
    "# Showing the results\n",
    "train_score = model.score(X_train, y_train)\n",
    "test_score = model.score(X_test, y_test)\n",
    "\n",
    "\n",
    "print(\"Train score: {}\".format(train_score))\n",
    "print(\"Test score: {}\".format(test_score))"
   ]
  },
  {
   "cell_type": "code",
   "execution_count": 18,
   "metadata": {},
   "outputs": [
    {
     "data": {
      "text/plain": [
       "{'tree__max_depth': 3}"
      ]
     },
     "execution_count": 18,
     "metadata": {},
     "output_type": "execute_result"
    }
   ],
   "source": [
    "# Tuning hyperparameters using cross-validation and tree depth\n",
    "parameters = {'tree__max_depth': [3, 4, 5]}\n",
    "kfold = KFold(n_splits=5, shuffle=True, random_state=42)\n",
    "grid = GridSearchCV(model, param_grid=parameters, cv=kfold, n_jobs=-1)\n",
    "grid.fit(X=df.drop(['Survived'], axis=1), y=df['Survived'])\n",
    "\n",
    "# Best parameters\n",
    "grid.best_params_ "
   ]
  }
 ],
 "metadata": {
  "kernelspec": {
   "display_name": "Python 3",
   "language": "python",
   "name": "python3"
  },
  "language_info": {
   "codemirror_mode": {
    "name": "ipython",
    "version": 3
   },
   "file_extension": ".py",
   "mimetype": "text/x-python",
   "name": "python",
   "nbconvert_exporter": "python",
   "pygments_lexer": "ipython3",
   "version": "3.7.6"
  }
 },
 "nbformat": 4,
 "nbformat_minor": 4
}
